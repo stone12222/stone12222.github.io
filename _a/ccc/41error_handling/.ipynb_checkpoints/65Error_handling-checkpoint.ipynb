{
 "cells": [
  {
   "cell_type": "code",
   "execution_count": 5,
   "metadata": {
    "collapsed": false
   },
   "outputs": [
    {
     "name": "stdout",
     "output_type": "stream",
     "text": [
      "Unable to open file\n",
      "This line will be printed no matter what\n"
     ]
    }
   ],
   "source": [
    "try:\n",
    "    open(\"a_file_not_exist\")\n",
    "    print(\"processing file ....\")\n",
    "except IOError:\n",
    "    print(\"Unable to open file\")\n",
    "finally:\n",
    "    print(\"This line will be printed no matter what\")"
   ]
  },
  {
   "cell_type": "code",
   "execution_count": 8,
   "metadata": {
    "collapsed": false,
    "scrolled": true
   },
   "outputs": [
    {
     "name": "stdout",
     "output_type": "stream",
     "text": [
      "enter your name\n"
     ]
    },
    {
     "ename": "Exception",
     "evalue": "The user name can't be empty!",
     "output_type": "error",
     "traceback": [
      "\u001b[0;31m---------------------------------------------------------------------------\u001b[0m",
      "\u001b[0;31mException\u001b[0m                                 Traceback (most recent call last)",
      "\u001b[0;32m<ipython-input-8-b2babd6c88c2>\u001b[0m in \u001b[0;36m<module>\u001b[0;34m()\u001b[0m\n\u001b[1;32m      4\u001b[0m         \u001b[0;32mraise\u001b[0m \u001b[0mException\u001b[0m\u001b[0;34m(\u001b[0m\u001b[0;34m\"The user name can't be empty!\"\u001b[0m\u001b[0;34m)\u001b[0m\u001b[0;34m\u001b[0m\u001b[0m\n\u001b[1;32m      5\u001b[0m \u001b[0;34m\u001b[0m\u001b[0m\n\u001b[0;32m----> 6\u001b[0;31m \u001b[0minput_user_name\u001b[0m\u001b[0;34m(\u001b[0m\u001b[0;34m)\u001b[0m\u001b[0;34m\u001b[0m\u001b[0m\n\u001b[0m",
      "\u001b[0;32m<ipython-input-8-b2babd6c88c2>\u001b[0m in \u001b[0;36minput_user_name\u001b[0;34m()\u001b[0m\n\u001b[1;32m      2\u001b[0m     \u001b[0muser_name\u001b[0m\u001b[0;34m=\u001b[0m\u001b[0minput\u001b[0m\u001b[0;34m(\u001b[0m\u001b[0;34m\"enter your name\"\u001b[0m\u001b[0;34m)\u001b[0m\u001b[0;34m\u001b[0m\u001b[0m\n\u001b[1;32m      3\u001b[0m     \u001b[0;32mif\u001b[0m \u001b[0mlen\u001b[0m\u001b[0;34m(\u001b[0m\u001b[0muser_name\u001b[0m\u001b[0;34m)\u001b[0m\u001b[0;34m==\u001b[0m\u001b[0;36m0\u001b[0m\u001b[0;34m:\u001b[0m\u001b[0;34m\u001b[0m\u001b[0m\n\u001b[0;32m----> 4\u001b[0;31m         \u001b[0;32mraise\u001b[0m \u001b[0mException\u001b[0m\u001b[0;34m(\u001b[0m\u001b[0;34m\"The user name can't be empty!\"\u001b[0m\u001b[0;34m)\u001b[0m\u001b[0;34m\u001b[0m\u001b[0m\n\u001b[0m\u001b[1;32m      5\u001b[0m \u001b[0;34m\u001b[0m\u001b[0m\n\u001b[1;32m      6\u001b[0m \u001b[0minput_user_name\u001b[0m\u001b[0;34m(\u001b[0m\u001b[0;34m)\u001b[0m\u001b[0;34m\u001b[0m\u001b[0m\n",
      "\u001b[0;31mException\u001b[0m: The user name can't be empty!"
     ]
    }
   ],
   "source": [
    "def input_user_name():\n",
    "    user_name=input(\"enter your name\")\n",
    "    if len(user_name)==0:\n",
    "        raise Exception(\"The user name can't be empty!\")\n",
    "\n",
    "input_user_name()"
   ]
  },
  {
   "cell_type": "code",
   "execution_count": 18,
   "metadata": {
    "collapsed": false
   },
   "outputs": [
    {
     "name": "stdout",
     "output_type": "stream",
     "text": [
      "enter your name\n",
      "Exception: The user name can't be empty!\n"
     ]
    }
   ],
   "source": [
    "def input_user_name():\n",
    "    user_name=input(\"enter your name\")\n",
    "    if len(user_name)==0:\n",
    "        raise Exception(\"The user name can't be empty!\")\n",
    "    print(user_name)\n",
    "\n",
    "try:\n",
    "    input_user_name()\n",
    "except Exception as e:\n",
    "    print(\"Exception: \"+ str(e))"
   ]
  },
  {
   "cell_type": "code",
   "execution_count": 17,
   "metadata": {
    "collapsed": false
   },
   "outputs": [
    {
     "name": "stdout",
     "output_type": "stream",
     "text": [
      "enter your namejohn\n",
      "john\n"
     ]
    }
   ],
   "source": [
    "# give exception object a name\n",
    "class NameError(Exception):\n",
    "    pass\n",
    "\n",
    "def input_user_name():\n",
    "    user_name=input(\"enter your name\")\n",
    "    if len(user_name)==0:\n",
    "        raise NameError(\"The user name can't be empty!\")\n",
    "    print(user_name)\n",
    "\n",
    "try:\n",
    "    input_user_name()\n",
    "except NameError as e:\n",
    "    print(\"NameError: \"+ str(e))"
   ]
  }
 ],
 "metadata": {
  "kernelspec": {
   "display_name": "Python 3",
   "language": "python",
   "name": "python3"
  },
  "language_info": {
   "codemirror_mode": {
    "name": "ipython",
    "version": 3
   },
   "file_extension": ".py",
   "mimetype": "text/x-python",
   "name": "python",
   "nbconvert_exporter": "python",
   "pygments_lexer": "ipython3",
   "version": "3.5.1"
  }
 },
 "nbformat": 4,
 "nbformat_minor": 0
}
