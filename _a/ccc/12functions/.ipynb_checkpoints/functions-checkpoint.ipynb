{
 "cells": [
  {
   "cell_type": "code",
   "execution_count": 1,
   "metadata": {
    "collapsed": false
   },
   "outputs": [
    {
     "name": "stdout",
     "output_type": "stream",
     "text": [
      "3\n"
     ]
    }
   ],
   "source": [
    "def add(a,b):\n",
    "    print(a+b)\n",
    "\n",
    "add(1,2)"
   ]
  },
  {
   "cell_type": "code",
   "execution_count": 5,
   "metadata": {
    "collapsed": false
   },
   "outputs": [
    {
     "name": "stdout",
     "output_type": "stream",
     "text": [
      "300\n"
     ]
    }
   ],
   "source": [
    "def add(a=100, b=200):\n",
    "    print(a+b)\n",
    "    \n",
    "add()"
   ]
  },
  {
   "cell_type": "code",
   "execution_count": 2,
   "metadata": {
    "collapsed": false
   },
   "outputs": [
    {
     "name": "stdout",
     "output_type": "stream",
     "text": [
      "a 200\n",
      "b 100\n"
     ]
    }
   ],
   "source": [
    "def add(a, b):\n",
    "    print(\"a\",a)\n",
    "    print(\"b\",b)\n",
    "    \n",
    "add(b=100, a=200)"
   ]
  },
  {
   "cell_type": "code",
   "execution_count": 5,
   "metadata": {
    "collapsed": false
   },
   "outputs": [
    {
     "ename": "SyntaxError",
     "evalue": "non-keyword arg after keyword arg (<ipython-input-5-1767733d6923>, line 4)",
     "output_type": "error",
     "traceback": [
      "\u001b[0;36m  File \u001b[0;32m\"<ipython-input-5-1767733d6923>\"\u001b[0;36m, line \u001b[0;32m4\u001b[0m\n\u001b[0;31m    add(1,second=2,3,4)\u001b[0m\n\u001b[0m                  ^\u001b[0m\n\u001b[0;31mSyntaxError\u001b[0m\u001b[0;31m:\u001b[0m non-keyword arg after keyword arg\n"
     ]
    }
   ],
   "source": [
    "def add(a, *other_numbers):\n",
    "    print(other_numbers)\n",
    "    \n",
    "add(1,2,3,4)"
   ]
  },
  {
   "cell_type": "code",
   "execution_count": 9,
   "metadata": {
    "collapsed": false
   },
   "outputs": [
    {
     "name": "stdout",
     "output_type": "stream",
     "text": [
      "{'third': 3, 'four': 4, 'second': 2}\n"
     ]
    }
   ],
   "source": [
    "def add(a, **other_numbers):\n",
    "    print(other_numbers)\n",
    "    \n",
    "add(1,second=2,third=3,four=4)"
   ]
  },
  {
   "cell_type": "code",
   "execution_count": 4,
   "metadata": {
    "collapsed": false
   },
   "outputs": [
    {
     "name": "stdout",
     "output_type": "stream",
     "text": [
      "second == 2\n",
      "four == 4\n",
      "third == 3\n"
     ]
    }
   ],
   "source": [
    "def add(a, **other_numbers):\n",
    "    if other_numbers is not None:\n",
    "        for key, value in other_numbers.items():\n",
    "            print(\"%s == %s\" %(key,value))\n",
    "            \n",
    "add(1,second=2,third=3,four=4)"
   ]
  },
  {
   "cell_type": "code",
   "execution_count": null,
   "metadata": {
    "collapsed": true
   },
   "outputs": [],
   "source": [
    "def add(a,b):\n",
    "    return a+b"
   ]
  },
  {
   "cell_type": "code",
   "execution_count": 14,
   "metadata": {
    "collapsed": false
   },
   "outputs": [
    {
     "name": "stdout",
     "output_type": "stream",
     "text": [
      "abc\n",
      "abc\n"
     ]
    }
   ],
   "source": [
    "var1 = \"abc\"\n",
    "def p():\n",
    "    print(var1)\n",
    "p()\n",
    "print(var1)"
   ]
  },
  {
   "cell_type": "code",
   "execution_count": 15,
   "metadata": {
    "collapsed": false
   },
   "outputs": [
    {
     "name": "stdout",
     "output_type": "stream",
     "text": [
      "def\n",
      "global var1 value is still:  abc\n"
     ]
    }
   ],
   "source": [
    "var1 = \"abc\"\n",
    "def p():\n",
    "    var1=\"def\"\n",
    "    print(var1)\n",
    "p()\n",
    "print(\"global var1 value is still: \",var1)"
   ]
  },
  {
   "cell_type": "code",
   "execution_count": 17,
   "metadata": {
    "collapsed": false
   },
   "outputs": [
    {
     "name": "stdout",
     "output_type": "stream",
     "text": [
      "def\n",
      "def\n"
     ]
    }
   ],
   "source": [
    "# how to let function change global variable\n",
    "var1 = \"abc\"\n",
    "def p():\n",
    "    global var1\n",
    "    var1 = \"def\"\n",
    "    print(var1)\n",
    "p()\n",
    "print(var1)"
   ]
  },
  {
   "cell_type": "code",
   "execution_count": 9,
   "metadata": {
    "collapsed": false
   },
   "outputs": [
    {
     "name": "stdout",
     "output_type": "stream",
     "text": [
      "0\n",
      "a: 1\n",
      "b: 1\n",
      "3\n"
     ]
    }
   ],
   "source": [
    "# built-in constant 'None', which indicates the absence of a value\n",
    "def add(a=None,b=None):\n",
    "    if (a is None) and (b is None):\n",
    "        print(0)\n",
    "    elif (a is None):\n",
    "        print('b:',b)\n",
    "    elif b is None:\n",
    "        print('a:',a)\n",
    "    else:\n",
    "        print(a+b)\n",
    "\n",
    "add()\n",
    "add(1)\n",
    "add(b=1)\n",
    "add(1,2)\n",
    "\n"
   ]
  },
  {
   "cell_type": "markdown",
   "metadata": {},
   "source": [
    "###### \\_\\_name\\_\\_"
   ]
  },
  {
   "cell_type": "code",
   "execution_count": 12,
   "metadata": {
    "collapsed": false
   },
   "outputs": [
    {
     "name": "stdout",
     "output_type": "stream",
     "text": [
      "This program is being run by itself\n"
     ]
    }
   ],
   "source": [
    "\n",
    "if __name__ == '__main__':\n",
    "\tprint('This program is being run by itself')\n",
    "else:\n",
    "\tprint('I am being imported from another module')"
   ]
  },
  {
   "cell_type": "code",
   "execution_count": null,
   "metadata": {
    "collapsed": true
   },
   "outputs": [],
   "source": []
  }
 ],
 "metadata": {
  "kernelspec": {
   "display_name": "Python 3",
   "language": "python",
   "name": "python3"
  },
  "language_info": {
   "codemirror_mode": {
    "name": "ipython",
    "version": 3
   },
   "file_extension": ".py",
   "mimetype": "text/x-python",
   "name": "python",
   "nbconvert_exporter": "python",
   "pygments_lexer": "ipython3",
   "version": "3.5.1"
  }
 },
 "nbformat": 4,
 "nbformat_minor": 0
}
