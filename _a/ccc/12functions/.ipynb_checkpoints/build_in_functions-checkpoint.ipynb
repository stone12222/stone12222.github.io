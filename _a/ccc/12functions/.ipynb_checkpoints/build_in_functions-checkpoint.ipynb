{
 "cells": [
  {
   "cell_type": "code",
   "execution_count": 1,
   "metadata": {
    "collapsed": false
   },
   "outputs": [
    {
     "name": "stdout",
     "output_type": "stream",
     "text": [
      "3 d\n",
      "2 c\n",
      "1 b\n",
      "0 a\n"
     ]
    }
   ],
   "source": [
    "# range\n",
    "chars = ['a','b','c','d']\n",
    "for i in range(len(chars)-1,-1,-1):\n",
    "    print(i, chars[i])"
   ]
  },
  {
   "cell_type": "code",
   "execution_count": 11,
   "metadata": {
    "collapsed": false
   },
   "outputs": [
    {
     "name": "stdout",
     "output_type": "stream",
     "text": [
      "0.4432048898968929\n",
      "0\n",
      "s\n",
      "None\n",
      "[4, 2, 1, 5, 3, 6]\n",
      "[5, 6, 3, 4]\n"
     ]
    }
   ],
   "source": [
    "import random\n",
    "print(random.random()) # Random float number from 0.0 to 1.0\n",
    "print(random.randrange(10)) # from 0 to 9\n",
    "print(random.choice('abcdefghijklmnopqrst'))\n",
    "\n",
    "#shuffle\n",
    "numbers = [1,2,3,4,5,6]\n",
    "print(random.shuffle(numbers))\n",
    "print(numbers)\n",
    "\n",
    "#sample\n",
    "print(random.sample(numbers, 4))"
   ]
  }
 ],
 "metadata": {
  "kernelspec": {
   "display_name": "Python 3",
   "language": "python",
   "name": "python3"
  },
  "language_info": {
   "codemirror_mode": {
    "name": "ipython",
    "version": 3
   },
   "file_extension": ".py",
   "mimetype": "text/x-python",
   "name": "python",
   "nbconvert_exporter": "python",
   "pygments_lexer": "ipython3",
   "version": "3.5.1"
  }
 },
 "nbformat": 4,
 "nbformat_minor": 0
}
